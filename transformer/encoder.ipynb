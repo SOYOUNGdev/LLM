{
 "cells": [
  {
   "cell_type": "markdown",
   "metadata": {},
   "source": [
    "#### Encoder\n",
    "- transformer의 인코더는 multihead attention, layerNorm, feedfoward 층이 반복되는 형태이다.\n",
    "- 안정적인 학습이 가능하도록 residual connection이 있다.\n",
    "- 이러한 인코더 블록을 반복해서 쌓아 transformer 인코더가 된다."
   ]
  },
  {
   "cell_type": "code",
   "execution_count": 1,
   "metadata": {},
   "outputs": [
    {
     "name": "stdout",
     "output_type": "stream",
     "text": [
      "input_text_list:  ['나는', '최근', '파리', '여행을', '다녀왔다']\n",
      "str2idx:  {'나는': 0, '최근': 1, '파리': 2, '여행을': 3, '다녀왔다': 4}\n",
      "idx2str:  {0: '나는', 1: '최근', 2: '파리', 3: '여행을', 4: '다녀왔다'}\n",
      "input_ids:  [0, 1, 2, 3, 4]\n"
     ]
    }
   ],
   "source": [
    "# 띄어쓰기 단위로 분리하는 토큰화 코드\n",
    "input_text = \"나는 최근 파리 여행을 다녀왔다\"\n",
    "input_text_list = input_text.split()\n",
    "print(\"input_text_list: \", input_text_list)\n",
    "\n",
    "# 토큰 -> 아이디 딕셔너리와 아이디 -> 토큰 딕셔너리 만들기\n",
    "str2idx = {word:idx for idx, word in enumerate(input_text_list)}\n",
    "idx2str = {idx:word for idx, word in enumerate(input_text_list)}\n",
    "print(\"str2idx: \", str2idx)\n",
    "print(\"idx2str: \", idx2str)\n",
    "\n",
    "# 토큰을 토큰 아이디로 변환\n",
    "input_ids = [str2idx[word] for word in input_text_list]\n",
    "print(\"input_ids: \", input_ids)"
   ]
  },
  {
   "cell_type": "code",
   "execution_count": 2,
   "metadata": {},
   "outputs": [
    {
     "data": {
      "text/plain": [
       "torch.Size([1, 5, 16])"
      ]
     },
     "execution_count": 2,
     "metadata": {},
     "output_type": "execute_result"
    }
   ],
   "source": [
    "# 토큰 임베딩 (토큰 아이디 -> 벡터)\n",
    "import torch\n",
    "import torch.nn as nn\n",
    "\n",
    "embedding_dim = 16\n",
    "# 사전 크기가 ?이고, 차원이 ?인 embed_layer 생성\n",
    "embed_layer = nn.Embedding(len(str2idx), embedding_dim)\n",
    "\n",
    "# 입력 토큰을 임베딩으로 변환\n",
    "# 즉, 토큰 1개를 16차원의 벡터로 변환\n",
    "input_embeddings = embed_layer(torch.tensor(input_ids))     # (5, 16)\n",
    "input_embeddings = input_embeddings.unsqueeze(0)        #(1, 5, 16)\n",
    "input_embeddings.shape"
   ]
  },
  {
   "cell_type": "code",
   "execution_count": 3,
   "metadata": {},
   "outputs": [],
   "source": [
    "# 쿼리, 키, 값 벡터를 만드는 nn.Linear 층\n",
    "\n",
    "head_dim = 16\n",
    "\n",
    "# q, k, v를 계산하기 위한 변환\n",
    "# 각 가중치\n",
    "weight_q = nn.Linear(embedding_dim, head_dim)\n",
    "weight_k = nn.Linear(embedding_dim, head_dim)\n",
    "weight_v = nn.Linear(embedding_dim, head_dim)\n",
    "\n",
    "# 변환 수행\n",
    "# 각 가중치에 입력값 넣어 쿼리, 키, 값 생성\n",
    "querys = weight_q(input_embeddings)\n",
    "keys = weight_k(input_embeddings)\n",
    "values = weight_v(input_embeddings)"
   ]
  },
  {
   "cell_type": "code",
   "execution_count": 4,
   "metadata": {},
   "outputs": [],
   "source": [
    "# 스케일 내적 방식의 어텐션\n",
    "from math import sqrt\n",
    "import torch.nn.functional as F\n",
    "\n",
    "def compute_attention(qureys, keys, values, is_casual=False):\n",
    "    dim_k = querys.size(-1) # 16\n",
    "    # 분산이 커지는 것을 방지하기 위해 임베딩 차원 수의 제곱근으로 나눔\n",
    "    scores = qureys @ keys.transpose(-2, -1) / sqrt(dim_k)\n",
    "    # scores를 합이 1이 되도록 softmax를 취해 weight로 바꿈\n",
    "    weights = F.softmax(scores, dim=-1)\n",
    "    # 가중치와 값을 곱해 입력과 동일한 형태의 출력을 반환함.\n",
    "    # 이는 새로운 토큰 임베딩이다.\n",
    "    return weights @ values"
   ]
  },
  {
   "cell_type": "code",
   "execution_count": 5,
   "metadata": {},
   "outputs": [
    {
     "data": {
      "text/plain": [
       "torch.Size([1, 5, 16])"
      ]
     },
     "execution_count": 5,
     "metadata": {},
     "output_type": "execute_result"
    }
   ],
   "source": [
    "class MultiheadAttention(nn.Module):\n",
    "    def __init__(self, token_embed_dim, d_model, n_head, is_causal=False):\n",
    "        super().__init__()\n",
    "        self.n_head = n_head  # 사용할 어텐션 헤드 수\n",
    "        self.is_causal = is_causal  # 인과적 어텐션 여부\n",
    "        # 쿼리, 키, 값 벡터를 생성하는 선형 변환 레이어\n",
    "        self.weight_q = nn.Linear(token_embed_dim, d_model)\n",
    "        self.weight_k = nn.Linear(token_embed_dim, d_model)\n",
    "        self.weight_v = nn.Linear(token_embed_dim, d_model)\n",
    "        # 여러 헤드를 concat한 후 차원 맞추는 선형 변환 레이어\n",
    "        self.concat_linear = nn.Linear(d_model, d_model)\n",
    "\n",
    "    def forward(self, querys, keys, values):\n",
    "        B, T, C = querys.size()  # B: 배치 크기, T: 시퀀스 길이, C: 임베딩 차원\n",
    "        # print(B)\n",
    "        # print(T)\n",
    "        # print(C)\n",
    "\n",
    "        # 헤드의 수만큼 연산하기 위해 q, k, v값을 n_head개로 쪼갬\n",
    "        querys = self.weight_q(querys).view(B, T, self.n_head, C // self.n_head).transpose(1, 2)\n",
    "        keys = self.weight_k(keys).view(B, T, self.n_head, C // self.n_head).transpose(1, 2)\n",
    "        values = self.weight_v(values).view(B, T, self.n_head, C // self.n_head).transpose(1, 2)\n",
    "\n",
    "        # 어텐션 연산 수행, 결과 크기는 (B, n_head, T, head_dim)\n",
    "        attention = compute_attention(querys, keys, values, self.is_causal)\n",
    "\n",
    "        # 헤드 축과 시퀀스 길이 축을 교환 후 (B, T, C)로 reshape\n",
    "        # 즉, 입력과 같은 형태로 다시 변환\n",
    "        output = attention.transpose(1, 2).contiguous().view(B, T, C)\n",
    "        \n",
    "        # 마지막으로 선형 layer를 통과시키고 최종 결과를 반환 \n",
    "        output = self.concat_linear(output)\n",
    "        \n",
    "        return output\n",
    "\n",
    "n_head = 4  # 어텐션 헤드 수\n",
    "mh_attention = MultiheadAttention(embedding_dim, embedding_dim, n_head)\n",
    "# 멀티헤드 어텐션 연산 수행 후 최종 출력\n",
    "after_attention_embeddings = mh_attention(input_embeddings, input_embeddings, input_embeddings)\n",
    "after_attention_embeddings.shape  # (B, T, C)"
   ]
  },
  {
   "cell_type": "code",
   "execution_count": 7,
   "metadata": {},
   "outputs": [],
   "source": [
    "# feed foward layer\n",
    "class PreLayerNormFeedFoward(nn.Module):\n",
    "    def __init__(self, d_model, dim_feedforward, dropout):\n",
    "        super().__init__()\n",
    "        # 첫 번째 linear layer\n",
    "        self.linear1 = nn.Linear(d_model, dim_feedforward)\n",
    "        # 두 번째 linear layer\n",
    "        self.linear2 = nn.Linear(dim_feedforward, d_model)\n",
    "        # 첫 번째 dropout layer\n",
    "        self.dropout1 = nn.Dropout(dropout)\n",
    "        # 두 번째 dropout layer\n",
    "        self.dropout2 = nn.Dropout(dropout)\n",
    "        # 활성화 함수\n",
    "        self.activation = nn.GELU()\n",
    "        # 층 정규화\n",
    "        self.norm = nn.LayerNorm(d_model)\n",
    "\n",
    "    def forward(self, src):\n",
    "        x = self.norm(src)\n",
    "        x = x + self.linear2(self.dropout1(self.activation(self.linear1(x))))\n",
    "        x = self.dropout2(x)\n",
    "        return x"
   ]
  },
  {
   "cell_type": "code",
   "execution_count": null,
   "metadata": {},
   "outputs": [],
   "source": [
    "# encoder layer\n",
    "import torch.nn as nn\n",
    "\n",
    "class TransformerEncoderLayer(nn.Module):\n",
    "    def __init__(self, d_model, nhead, dim_feedforward, dropout):\n",
    "        super().__init__()\n",
    "        self.attn = MultiheadAttention(d_model, d_model, nhead)\n",
    "        self.norm1 = nn.LayerNorm(d_model)\n",
    "        self.dropout1 = nn.Dropout(dropout)\n",
    "        self.feed_forward = PreLayerNormFeedFoward(d_model, dim_feedforward, dropout)\n",
    "\n",
    "    def forward(self, src):\n",
    "        norm_x = self.norm1(src)\n",
    "        attn_output = self.attn(norm_x, norm_x, norm_x)\n",
    "        x = src + self.dropout1(attn_output)\n",
    "\n",
    "        # feed foward\n",
    "        x = self.feed_forward(x)\n",
    "        return x"
   ]
  },
  {
   "cell_type": "code",
   "execution_count": 9,
   "metadata": {},
   "outputs": [],
   "source": [
    "# encoder 구현\n",
    "import copy\n",
    "\n",
    "def get_clones(module, N):\n",
    "    return nn.Modulelist([copy.deepcopy(module) for i in range(N)])\n",
    "\n",
    "class TransformerEncoder(nn.Module):\n",
    "    def __init__(self, encoder_layer, num_layers):\n",
    "        super().__init__()\n",
    "        self.layers = get_clones(encoder_layer, num_layers)\n",
    "        self.num_layers = num_layers\n",
    "\n",
    "    def forward(self, src):\n",
    "        output = src\n",
    "        for mod in self.layers:\n",
    "            output = mod(output)\n",
    "        return output"
   ]
  }
 ],
 "metadata": {
  "kernelspec": {
   "display_name": "test",
   "language": "python",
   "name": "python3"
  },
  "language_info": {
   "codemirror_mode": {
    "name": "ipython",
    "version": 3
   },
   "file_extension": ".py",
   "mimetype": "text/x-python",
   "name": "python",
   "nbconvert_exporter": "python",
   "pygments_lexer": "ipython3",
   "version": "3.10.15"
  }
 },
 "nbformat": 4,
 "nbformat_minor": 2
}
